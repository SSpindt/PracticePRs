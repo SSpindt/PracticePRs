{
 "cells": [
  {
   "cell_type": "code",
   "execution_count": 6,
   "id": "97e19ff1",
   "metadata": {},
   "outputs": [
    {
     "name": "stdout",
     "output_type": "stream",
     "text": [
      "You rolled a 1.\n",
      "Winner number!\n"
     ]
    }
   ],
   "source": [
    "import random\n",
    "\n",
    "def dice_roll_risk():\n",
    "    yes = [1, 6]\n",
    "\n",
    "    roll = random.randint(1, 6)\n",
    "    print(f\"You rolled a {roll}.\")\n",
    "\n",
    "    if roll in yes:\n",
    "        return \"Winner number!\"\n",
    "    else:\n",
    "        return \"Uh oh! You lost!\"\n",
    "\n",
    "print(dice_roll_risk())"
   ]
  },
  {
   "cell_type": "code",
   "execution_count": null,
   "id": "2333c3c6",
   "metadata": {},
   "outputs": [],
   "source": []
  }
 ],
 "metadata": {
  "kernelspec": {
   "display_name": "Python 3 (ipykernel)",
   "language": "python",
   "name": "python3"
  },
  "language_info": {
   "codemirror_mode": {
    "name": "ipython",
    "version": 3
   },
   "file_extension": ".py",
   "mimetype": "text/x-python",
   "name": "python",
   "nbconvert_exporter": "python",
   "pygments_lexer": "ipython3",
   "version": "3.9.13"
  }
 },
 "nbformat": 4,
 "nbformat_minor": 5
}
